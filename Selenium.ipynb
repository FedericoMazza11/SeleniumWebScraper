{
 "cells": [
  {
   "cell_type": "code",
   "execution_count": 1,
   "id": "f0eb97b5",
   "metadata": {},
   "outputs": [
    {
     "name": "stderr",
     "output_type": "stream",
     "text": [
      "/usr/lib/python3/dist-packages/requests/__init__.py:89: RequestsDependencyWarning: urllib3 (1.26.13) or chardet (3.0.4) doesn't match a supported version!\n",
      "  warnings.warn(\"urllib3 ({}) or chardet ({}) doesn't match a supported \"\n"
     ]
    }
   ],
   "source": [
    "#Selenium import\n",
    "import time \n",
    "import undetected_chromedriver.v2 as uc\n",
    "from selenium import webdriver\n",
    "from selenium.webdriver.common.keys import Keys\n",
    "from selenium.webdriver.support import expected_conditions as EC\n",
    "from selenium.webdriver.common.by import By\n",
    "from selenium.webdriver.support.wait import WebDriverWait\n"
   ]
  },
  {
   "cell_type": "code",
   "execution_count": 6,
   "id": "521608a3",
   "metadata": {},
   "outputs": [
    {
     "ename": "WebDriverException",
     "evalue": "Message: disconnected: unable to connect to renderer\n  (failed to check if window was closed: disconnected: unable to connect to renderer)\n  (Session info: chrome=108.0.5359.98)\nStacktrace:\n#0 0x55ac3468b2a3 <unknown>\n#1 0x55ac34449f77 <unknown>\n#2 0x55ac3443129b <unknown>\n#3 0x55ac34423adc <unknown>\n#4 0x55ac34424b10 <unknown>\n#5 0x55ac344b1402 <unknown>\n#6 0x55ac344a6af8 <unknown>\n#7 0x55ac34479ece <unknown>\n#8 0x55ac3447afde <unknown>\n#9 0x55ac346db63e <unknown>\n#10 0x55ac346deb79 <unknown>\n#11 0x55ac346c189e <unknown>\n#12 0x55ac346dfa83 <unknown>\n#13 0x55ac346b4505 <unknown>\n#14 0x55ac34700ca8 <unknown>\n#15 0x55ac34700e36 <unknown>\n#16 0x55ac3471c333 <unknown>\n#17 0x7f56eb5a4609 start_thread\n",
     "output_type": "error",
     "traceback": [
      "\u001b[0;31m---------------------------------------------------------------------------\u001b[0m",
      "\u001b[0;31mWebDriverException\u001b[0m                        Traceback (most recent call last)",
      "Cell \u001b[0;32mIn [6], line 35\u001b[0m\n\u001b[1;32m     33\u001b[0m button \u001b[38;5;241m=\u001b[39m WebDriverWait(driver, \u001b[38;5;241m2\u001b[39m)\u001b[38;5;241m.\u001b[39muntil(EC\u001b[38;5;241m.\u001b[39melement_to_be_clickable((By\u001b[38;5;241m.\u001b[39mCSS_SELECTOR, \u001b[38;5;124m\"\u001b[39m\u001b[38;5;124mbutton[type=\u001b[39m\u001b[38;5;124m'\u001b[39m\u001b[38;5;124msubmit\u001b[39m\u001b[38;5;124m'\u001b[39m\u001b[38;5;124m]\u001b[39m\u001b[38;5;124m\"\u001b[39m)))\u001b[38;5;241m.\u001b[39mclick()\n\u001b[1;32m     34\u001b[0m time\u001b[38;5;241m.\u001b[39msleep(\u001b[38;5;241m60\u001b[39m)\n\u001b[0;32m---> 35\u001b[0m \u001b[43mdriver\u001b[49m\u001b[38;5;241;43m.\u001b[39;49m\u001b[43mclose\u001b[49m\u001b[43m(\u001b[49m\u001b[43m)\u001b[49m\n\u001b[1;32m     36\u001b[0m \u001b[38;5;66;03m#Sleeps the time set in the variable to then repeat the process\u001b[39;00m\n\u001b[1;32m     37\u001b[0m time\u001b[38;5;241m.\u001b[39msleep(delayPerTry)\n",
      "File \u001b[0;32m~/.local/lib/python3.8/site-packages/selenium/webdriver/remote/webdriver.py:561\u001b[0m, in \u001b[0;36mWebDriver.close\u001b[0;34m(self)\u001b[0m\n\u001b[1;32m    552\u001b[0m \u001b[38;5;28;01mdef\u001b[39;00m \u001b[38;5;21mclose\u001b[39m(\u001b[38;5;28mself\u001b[39m) \u001b[38;5;241m-\u001b[39m\u001b[38;5;241m>\u001b[39m \u001b[38;5;28;01mNone\u001b[39;00m:\n\u001b[1;32m    553\u001b[0m     \u001b[38;5;124;03m\"\"\"\u001b[39;00m\n\u001b[1;32m    554\u001b[0m \u001b[38;5;124;03m    Closes the current window.\u001b[39;00m\n\u001b[1;32m    555\u001b[0m \n\u001b[0;32m   (...)\u001b[0m\n\u001b[1;32m    559\u001b[0m \u001b[38;5;124;03m            driver.close()\u001b[39;00m\n\u001b[1;32m    560\u001b[0m \u001b[38;5;124;03m    \"\"\"\u001b[39;00m\n\u001b[0;32m--> 561\u001b[0m     \u001b[38;5;28;43mself\u001b[39;49m\u001b[38;5;241;43m.\u001b[39;49m\u001b[43mexecute\u001b[49m\u001b[43m(\u001b[49m\u001b[43mCommand\u001b[49m\u001b[38;5;241;43m.\u001b[39;49m\u001b[43mCLOSE\u001b[49m\u001b[43m)\u001b[49m\n",
      "File \u001b[0;32m~/.local/lib/python3.8/site-packages/selenium/webdriver/remote/webdriver.py:444\u001b[0m, in \u001b[0;36mWebDriver.execute\u001b[0;34m(self, driver_command, params)\u001b[0m\n\u001b[1;32m    442\u001b[0m response \u001b[38;5;241m=\u001b[39m \u001b[38;5;28mself\u001b[39m\u001b[38;5;241m.\u001b[39mcommand_executor\u001b[38;5;241m.\u001b[39mexecute(driver_command, params)\n\u001b[1;32m    443\u001b[0m \u001b[38;5;28;01mif\u001b[39;00m response:\n\u001b[0;32m--> 444\u001b[0m     \u001b[38;5;28;43mself\u001b[39;49m\u001b[38;5;241;43m.\u001b[39;49m\u001b[43merror_handler\u001b[49m\u001b[38;5;241;43m.\u001b[39;49m\u001b[43mcheck_response\u001b[49m\u001b[43m(\u001b[49m\u001b[43mresponse\u001b[49m\u001b[43m)\u001b[49m\n\u001b[1;32m    445\u001b[0m     response[\u001b[38;5;124m\"\u001b[39m\u001b[38;5;124mvalue\u001b[39m\u001b[38;5;124m\"\u001b[39m] \u001b[38;5;241m=\u001b[39m \u001b[38;5;28mself\u001b[39m\u001b[38;5;241m.\u001b[39m_unwrap_value(response\u001b[38;5;241m.\u001b[39mget(\u001b[38;5;124m\"\u001b[39m\u001b[38;5;124mvalue\u001b[39m\u001b[38;5;124m\"\u001b[39m, \u001b[38;5;28;01mNone\u001b[39;00m))\n\u001b[1;32m    446\u001b[0m     \u001b[38;5;28;01mreturn\u001b[39;00m response\n",
      "File \u001b[0;32m~/.local/lib/python3.8/site-packages/selenium/webdriver/remote/errorhandler.py:249\u001b[0m, in \u001b[0;36mErrorHandler.check_response\u001b[0;34m(self, response)\u001b[0m\n\u001b[1;32m    247\u001b[0m         alert_text \u001b[38;5;241m=\u001b[39m value[\u001b[38;5;124m\"\u001b[39m\u001b[38;5;124malert\u001b[39m\u001b[38;5;124m\"\u001b[39m]\u001b[38;5;241m.\u001b[39mget(\u001b[38;5;124m\"\u001b[39m\u001b[38;5;124mtext\u001b[39m\u001b[38;5;124m\"\u001b[39m)\n\u001b[1;32m    248\u001b[0m     \u001b[38;5;28;01mraise\u001b[39;00m exception_class(message, screen, stacktrace, alert_text)  \u001b[38;5;66;03m# type: ignore[call-arg]  # mypy is not smart enough here\u001b[39;00m\n\u001b[0;32m--> 249\u001b[0m \u001b[38;5;28;01mraise\u001b[39;00m exception_class(message, screen, stacktrace)\n",
      "\u001b[0;31mWebDriverException\u001b[0m: Message: disconnected: unable to connect to renderer\n  (failed to check if window was closed: disconnected: unable to connect to renderer)\n  (Session info: chrome=108.0.5359.98)\nStacktrace:\n#0 0x55ac3468b2a3 <unknown>\n#1 0x55ac34449f77 <unknown>\n#2 0x55ac3443129b <unknown>\n#3 0x55ac34423adc <unknown>\n#4 0x55ac34424b10 <unknown>\n#5 0x55ac344b1402 <unknown>\n#6 0x55ac344a6af8 <unknown>\n#7 0x55ac34479ece <unknown>\n#8 0x55ac3447afde <unknown>\n#9 0x55ac346db63e <unknown>\n#10 0x55ac346deb79 <unknown>\n#11 0x55ac346c189e <unknown>\n#12 0x55ac346dfa83 <unknown>\n#13 0x55ac346b4505 <unknown>\n#14 0x55ac34700ca8 <unknown>\n#15 0x55ac34700e36 <unknown>\n#16 0x55ac3471c333 <unknown>\n#17 0x7f56eb5a4609 start_thread\n"
     ]
    }
   ],
   "source": [
    "#Variables definition\n",
    "\n",
    "#Defines the accounts and their passwords\n",
    "accountFB = [\n",
    "        \"account1@gmail.com\", \n",
    "        \"account2@gmail.com\"\n",
    "        ]\n",
    "\n",
    "passwordFB = [\n",
    "        \"password1\", \n",
    "        \"password2\"\n",
    "        ]\n",
    "\n",
    "#4 Minutes per try\n",
    "delayPerTry = 4 * 60\n",
    "\n",
    "i = 0\n",
    "while True:\n",
    "    i += 1\n",
    "    indexArray = i % len(accountFB)\n",
    "    \n",
    "    driver = uc.Chrome()\n",
    "    #Opens the login webpage\n",
    "    driver.get(\"https://www.facebook.com/\")\n",
    "    #Sets the account\n",
    "    username = WebDriverWait(driver, 10).until(EC.element_to_be_clickable((By.CSS_SELECTOR, \"input[name='email']\")))\n",
    "    password = WebDriverWait(driver, 10).until(EC.element_to_be_clickable((By.CSS_SELECTOR, \"input[name='pass']\")))\n",
    "    username.clear()\n",
    "    username.send_keys(accountFB[indexArray])\n",
    "    password.clear()\n",
    "    password.send_keys(passwordFB[indexArray])\n",
    "    #Log in, then waits 60 seconds in order to receive the SMS\n",
    "    button = WebDriverWait(driver, 2).until(EC.element_to_be_clickable((By.CSS_SELECTOR, \"button[type='submit']\"))).click()\n",
    "    time.sleep(60)\n",
    "    driver.close()\n",
    "    #Sleeps the time set in the variable to then repeat the process\n",
    "    time.sleep(delayPerTry)\n",
    "    "
   ]
  },
  {
   "cell_type": "code",
   "execution_count": null,
   "id": "59be995e",
   "metadata": {},
   "outputs": [],
   "source": []
  },
  {
   "cell_type": "code",
   "execution_count": null,
   "id": "7cfa41a0",
   "metadata": {},
   "outputs": [],
   "source": []
  }
 ],
 "metadata": {
  "kernelspec": {
   "display_name": "Python 3 (ipykernel)",
   "language": "python",
   "name": "python3"
  },
  "language_info": {
   "codemirror_mode": {
    "name": "ipython",
    "version": 3
   },
   "file_extension": ".py",
   "mimetype": "text/x-python",
   "name": "python",
   "nbconvert_exporter": "python",
   "pygments_lexer": "ipython3",
   "version": "3.8.10"
  }
 },
 "nbformat": 4,
 "nbformat_minor": 5
}
